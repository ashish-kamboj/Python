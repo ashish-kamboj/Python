{
 "cells": [
  {
   "cell_type": "markdown",
   "id": "b83cc3e1",
   "metadata": {},
   "source": [
    "## [Docs](https://docs.python.org/2/library/datetime.html?highlight=strftime#strftime-and-strptime-behavior) for formatting directives."
   ]
  },
  {
   "cell_type": "code",
   "execution_count": 22,
   "id": "0203eff0",
   "metadata": {},
   "outputs": [
    {
     "name": "stdout",
     "output_type": "stream",
     "text": [
      "The date today is  2022-05-13\n",
      "The date info. is  Fri May 13 00:00:00 2022\n",
      "May 13 2022 13:30:55\n",
      "Fri\n",
      "Friday\n",
      "Apr\n",
      "April\n",
      "5\n",
      "05\n",
      "PM\n",
      "22\n",
      "000000\n",
      "13 May\n"
     ]
    }
   ],
   "source": [
    "import datetime \n",
    "\n",
    "## Get today's date\n",
    "tday = datetime.date.today()\n",
    "print(\"The date today is \", tday)\n",
    "\n",
    "daytoday = tday.ctime()\n",
    "print(\"The date info. is \", daytoday)\n",
    "\n",
    "\n",
    "## Coverting date to string\n",
    "date_to_string = datetime.datetime(2022, 5, 13, 13, 30, 55)\n",
    "print(date_to_string.strftime(\"%b %d %Y %H:%M:%S\"))\n",
    "\n",
    "\n",
    "## Display three characters of the weekday, e.g. Mon\n",
    "date_to_weekday = datetime.datetime(2022, 5, 13, 13, 30, 55)\n",
    "print(date_to_weekday.strftime(\"%a\"))\n",
    "\n",
    "\n",
    "## Display complete name of the weekday, e.g. Monday\n",
    "date_to_full_weekday = datetime.datetime(2022, 5, 13, 13, 30, 55)\n",
    "print(date_to_full_weekday.strftime(\"%A\"))\n",
    "\n",
    "\n",
    "## Display month name, e.g. Apr\n",
    "date_to_month = datetime.datetime(2022, 4, 13, 13, 30, 55)\n",
    "print(date_to_month.strftime(\"%b\"))\n",
    "\n",
    "\n",
    "## Display complete month name, e.g. April\n",
    "date_to_full_month = datetime.datetime(2022, 4, 13, 13, 30, 55)\n",
    "print(date_to_full_month.strftime(\"%B\"))\n",
    "\n",
    "\n",
    "## Displays the weekday as a number, from 0 to 6, with Sunday being 0.\n",
    "date_to_week_num = datetime.datetime(2022, 5, 13, 13, 30, 55)\n",
    "print(date_to_week_num.strftime(\"%w\"))\n",
    "\n",
    "\n",
    "## Displays month as a number i.e. 1 to 12.\n",
    "date_to_month_num = datetime.datetime(2022, 5, 13, 13, 30, 55)\n",
    "print(date_to_month_num.strftime(\"%m\"))\n",
    "\n",
    "\n",
    "## Define AM/PM for time\n",
    "date_to_am_pm = datetime.datetime(2022, 5, 13, 13, 30, 55)\n",
    "print(date_to_am_pm.strftime(\"%p\"))\n",
    "\n",
    "\n",
    "## Display year in two-digit format, i.e “20” in place of “2020”.\n",
    "date_to_yr_num = datetime.datetime(2022, 5, 13, 13, 30, 55)\n",
    "print(date_to_yr_num.strftime(\"%y\"))\n",
    "\n",
    "\n",
    "## Display number of the day in the year, from 1 to 366\n",
    "date_to_num = datetime.datetime(2022, 5, 13, 3, 30, 55)\n",
    "print(date_to_num.strftime(\"%f\"))\n",
    "\n",
    "\n",
    "## Converting one date format to another\n",
    "start_date = datetime.datetime.strptime('20220513', '%Y%m%d').strftime('%d %b')\n",
    "print(start_date)\n"
   ]
  },
  {
   "cell_type": "code",
   "execution_count": null,
   "id": "a8dc3690",
   "metadata": {},
   "outputs": [],
   "source": []
  }
 ],
 "metadata": {
  "kernelspec": {
   "display_name": "Python 3 (ipykernel)",
   "language": "python",
   "name": "python3"
  },
  "language_info": {
   "codemirror_mode": {
    "name": "ipython",
    "version": 3
   },
   "file_extension": ".py",
   "mimetype": "text/x-python",
   "name": "python",
   "nbconvert_exporter": "python",
   "pygments_lexer": "ipython3",
   "version": "3.9.7"
  }
 },
 "nbformat": 4,
 "nbformat_minor": 5
}
